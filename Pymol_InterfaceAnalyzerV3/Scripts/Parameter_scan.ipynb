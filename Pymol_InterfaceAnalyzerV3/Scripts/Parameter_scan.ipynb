{
 "cells": [
  {
   "cell_type": "code",
   "execution_count": 1,
   "metadata": {},
   "outputs": [],
   "source": [
    "# Run pymol -R from the folder Pymol_InterfaceAnalyzerV3!!\n",
    "from createfrontbackRing import createfrontbackRing\n",
    "from readers import *\n",
    "import pandas as pd\n",
    "import xmlrpc.client as xmlrpclib\n",
    "cmd = xmlrpclib.ServerProxy('http://localhost:9123')\n",
    "cmd.reinitialize()\n",
    "cmd.do('run Scripts/InterfaceResidues.py')"
   ]
  },
  {
   "cell_type": "code",
   "execution_count": 2,
   "metadata": {},
   "outputs": [],
   "source": [
    "def scanRingInterface(pdb_name='Inputs/A271.pdb', radius=200.0, nSym=16, rotation=[0,0,0], cmd=cmd):\n",
    "    cmd.reinitialize()\n",
    "    cmd.load(pdb_name, 'dimer')\n",
    "    # radius = 200.0\n",
    "    # nSym = 16\n",
    "    # rotation=[0,0,0]\n",
    "    createfrontbackRing(nSym, radius, rotation, 'dimer', cmd=cmd)\n",
    "    cmd.create('multimer', 'su_0 or su_1')\n",
    "    cmd.delete('not multimer')\n",
    "    cmd.save('Inputs/temp/multimer.pdb', 'multimer')\n",
    "\n",
    "    pdb_name = 'Inputs/temp/multimer.pdb'\n",
    "    result = 0\n",
    "    for ch1 in ['A', 'B']:\n",
    "        break_out_flag = False\n",
    "        for ch2 in ['C', 'D']:\n",
    "            print(ch1, ch2)\n",
    "            residues_interface, clash_residues_interface = totalResiduesInterface(pdb_name, ch1, ch2, cmd=cmd)\n",
    "            if clash_residues_interface != 0:\n",
    "                break_out_flag = True\n",
    "                print('------ Found clash between chains', ch1, 'and', ch2)\n",
    "                result = 'Clash'\n",
    "                break\n",
    "            else:\n",
    "                result += residues_interface\n",
    "        if break_out_flag:\n",
    "            break\n",
    "    return result"
   ]
  },
  {
   "cell_type": "code",
   "execution_count": 4,
   "metadata": {},
   "outputs": [
    {
     "name": "stdout",
     "output_type": "stream",
     "text": [
      "A C\n",
      "--- SUCCESS generating interface file for chain A and C\n",
      "--- SUCCESS reading PDB interf file of chains A and C\n"
     ]
    },
    {
     "name": "stderr",
     "output_type": "stream",
     "text": [
      "/home/linamp/miniconda3/envs/myenv/lib/python3.8/site-packages/Bio/PDB/PDBParser.py:395: PDBConstructionWarning: Ignoring unrecognized record 'END' at line 152\n",
      "  warnings.warn(\n"
     ]
    },
    {
     "name": "stdout",
     "output_type": "stream",
     "text": [
      "--- SUCCESS generating interface file for chain A and C\n",
      "--- SUCCESS reading PDB interf file of chains A and C\n",
      "------ Found clash between chains A and C\n",
      "Clash\n"
     ]
    },
    {
     "name": "stderr",
     "output_type": "stream",
     "text": [
      "/home/linamp/miniconda3/envs/myenv/lib/python3.8/site-packages/Bio/PDB/PDBParser.py:395: PDBConstructionWarning: Ignoring unrecognized record 'END' at line 152\n",
      "  warnings.warn(\n"
     ]
    },
    {
     "name": "stdout",
     "output_type": "stream",
     "text": [
      "A C\n",
      "--- SUCCESS generating interface file for chain A and C\n",
      "--- SUCCESS reading PDB interf file of chains A and C\n"
     ]
    },
    {
     "name": "stderr",
     "output_type": "stream",
     "text": [
      "/home/linamp/miniconda3/envs/myenv/lib/python3.8/site-packages/Bio/PDB/PDBParser.py:395: PDBConstructionWarning: Ignoring unrecognized record 'END' at line 152\n",
      "  warnings.warn(\n"
     ]
    },
    {
     "name": "stdout",
     "output_type": "stream",
     "text": [
      "--- SUCCESS generating interface file for chain A and C\n",
      "--- SUCCESS reading PDB interf file of chains A and C\n",
      "------ Found clash between chains A and C\n",
      "Clash\n"
     ]
    },
    {
     "name": "stderr",
     "output_type": "stream",
     "text": [
      "/home/linamp/miniconda3/envs/myenv/lib/python3.8/site-packages/Bio/PDB/PDBParser.py:395: PDBConstructionWarning: Ignoring unrecognized record 'END' at line 152\n",
      "  warnings.warn(\n"
     ]
    },
    {
     "name": "stdout",
     "output_type": "stream",
     "text": [
      "A C\n",
      "--- SUCCESS generating interface file for chain A and C\n",
      "--- SUCCESS reading PDB interf file of chains A and C\n"
     ]
    },
    {
     "name": "stderr",
     "output_type": "stream",
     "text": [
      "/home/linamp/miniconda3/envs/myenv/lib/python3.8/site-packages/Bio/PDB/PDBParser.py:395: PDBConstructionWarning: Ignoring unrecognized record 'END' at line 152\n",
      "  warnings.warn(\n"
     ]
    },
    {
     "name": "stdout",
     "output_type": "stream",
     "text": [
      "--- SUCCESS generating interface file for chain A and C\n",
      "--- SUCCESS reading PDB interf file of chains A and C\n",
      "------ Found clash between chains A and C\n",
      "Clash\n"
     ]
    },
    {
     "name": "stderr",
     "output_type": "stream",
     "text": [
      "/home/linamp/miniconda3/envs/myenv/lib/python3.8/site-packages/Bio/PDB/PDBParser.py:395: PDBConstructionWarning: Ignoring unrecognized record 'END' at line 152\n",
      "  warnings.warn(\n"
     ]
    },
    {
     "name": "stdout",
     "output_type": "stream",
     "text": [
      "A C\n",
      "--- SUCCESS generating interface file for chain A and C\n",
      "--- SUCCESS reading PDB interf file of chains A and C\n"
     ]
    },
    {
     "name": "stderr",
     "output_type": "stream",
     "text": [
      "/home/linamp/miniconda3/envs/myenv/lib/python3.8/site-packages/Bio/PDB/PDBParser.py:395: PDBConstructionWarning: Ignoring unrecognized record 'END' at line 152\n",
      "  warnings.warn(\n"
     ]
    },
    {
     "name": "stdout",
     "output_type": "stream",
     "text": [
      "--- SUCCESS generating interface file for chain A and C\n",
      "--- SUCCESS reading PDB interf file of chains A and C\n",
      "------ Found clash between chains A and C\n",
      "Clash\n"
     ]
    },
    {
     "name": "stderr",
     "output_type": "stream",
     "text": [
      "/home/linamp/miniconda3/envs/myenv/lib/python3.8/site-packages/Bio/PDB/PDBParser.py:395: PDBConstructionWarning: Ignoring unrecognized record 'END' at line 152\n",
      "  warnings.warn(\n"
     ]
    },
    {
     "name": "stdout",
     "output_type": "stream",
     "text": [
      "A C\n",
      "--- SUCCESS generating interface file for chain A and C\n",
      "--- SUCCESS reading PDB interf file of chains A and C\n"
     ]
    },
    {
     "name": "stderr",
     "output_type": "stream",
     "text": [
      "/home/linamp/miniconda3/envs/myenv/lib/python3.8/site-packages/Bio/PDB/PDBParser.py:395: PDBConstructionWarning: Ignoring unrecognized record 'END' at line 152\n",
      "  warnings.warn(\n"
     ]
    },
    {
     "name": "stdout",
     "output_type": "stream",
     "text": [
      "--- SUCCESS generating interface file for chain A and C\n",
      "--- SUCCESS reading PDB interf file of chains A and C\n",
      "------ Found clash between chains A and C\n",
      "Clash\n"
     ]
    },
    {
     "name": "stderr",
     "output_type": "stream",
     "text": [
      "/home/linamp/miniconda3/envs/myenv/lib/python3.8/site-packages/Bio/PDB/PDBParser.py:395: PDBConstructionWarning: Ignoring unrecognized record 'END' at line 152\n",
      "  warnings.warn(\n"
     ]
    },
    {
     "name": "stdout",
     "output_type": "stream",
     "text": [
      "A C\n",
      "--- SUCCESS generating interface file for chain A and C\n"
     ]
    },
    {
     "name": "stderr",
     "output_type": "stream",
     "text": [
      "/home/linamp/miniconda3/envs/myenv/lib/python3.8/site-packages/Bio/PDB/PDBParser.py:395: PDBConstructionWarning: Ignoring unrecognized record 'END' at line 152\n",
      "  warnings.warn(\n"
     ]
    },
    {
     "name": "stdout",
     "output_type": "stream",
     "text": [
      "--- SUCCESS reading PDB interf file of chains A and C\n",
      "--- SUCCESS generating interface file for chain A and C\n",
      "--- SUCCESS reading PDB interf file of chains A and C\n",
      "------ Found clash between chains A and C\n",
      "Clash\n"
     ]
    },
    {
     "name": "stderr",
     "output_type": "stream",
     "text": [
      "/home/linamp/miniconda3/envs/myenv/lib/python3.8/site-packages/Bio/PDB/PDBParser.py:395: PDBConstructionWarning: Ignoring unrecognized record 'END' at line 152\n",
      "  warnings.warn(\n"
     ]
    },
    {
     "ename": "KeyboardInterrupt",
     "evalue": "",
     "output_type": "error",
     "traceback": [
      "\u001b[0;31m---------------------------------------------------------------------------\u001b[0m",
      "\u001b[0;31mKeyboardInterrupt\u001b[0m                         Traceback (most recent call last)",
      "Cell \u001b[0;32mIn [4], line 19\u001b[0m\n\u001b[1;32m     17\u001b[0m \u001b[39mfor\u001b[39;00m nSym \u001b[39min\u001b[39;00m nSym_range:\n\u001b[1;32m     18\u001b[0m     \u001b[39mfor\u001b[39;00m radius \u001b[39min\u001b[39;00m radius_range:\n\u001b[0;32m---> 19\u001b[0m         result \u001b[39m=\u001b[39m scanRingInterface(pdb_name\u001b[39m=\u001b[39;49mpdb_name, nSym\u001b[39m=\u001b[39;49mnSym, radius\u001b[39m=\u001b[39;49mradius, rotation\u001b[39m=\u001b[39;49m[x, y, z], cmd\u001b[39m=\u001b[39;49mcmd)\n\u001b[1;32m     20\u001b[0m         \u001b[39mprint\u001b[39m(result)\n\u001b[1;32m     21\u001b[0m         scan_results\u001b[39m.\u001b[39mappend([pdb_name, nSym, radius, [x, y, z], result])\n",
      "Cell \u001b[0;32mIn [2], line 7\u001b[0m, in \u001b[0;36mscanRingInterface\u001b[0;34m(pdb_name, radius, nSym, rotation, cmd)\u001b[0m\n\u001b[1;32m      3\u001b[0m cmd\u001b[39m.\u001b[39mload(pdb_name, \u001b[39m'\u001b[39m\u001b[39mdimer\u001b[39m\u001b[39m'\u001b[39m)\n\u001b[1;32m      4\u001b[0m \u001b[39m# radius = 200.0\u001b[39;00m\n\u001b[1;32m      5\u001b[0m \u001b[39m# nSym = 16\u001b[39;00m\n\u001b[1;32m      6\u001b[0m \u001b[39m# rotation=[0,0,0]\u001b[39;00m\n\u001b[0;32m----> 7\u001b[0m createfrontbackRing(nSym, radius, rotation, \u001b[39m'\u001b[39;49m\u001b[39mdimer\u001b[39;49m\u001b[39m'\u001b[39;49m, cmd\u001b[39m=\u001b[39;49mcmd)\n\u001b[1;32m      8\u001b[0m cmd\u001b[39m.\u001b[39mcreate(\u001b[39m'\u001b[39m\u001b[39mmultimer\u001b[39m\u001b[39m'\u001b[39m, \u001b[39m'\u001b[39m\u001b[39msu_0 or su_1\u001b[39m\u001b[39m'\u001b[39m)\n\u001b[1;32m      9\u001b[0m cmd\u001b[39m.\u001b[39mdelete(\u001b[39m'\u001b[39m\u001b[39mnot multimer\u001b[39m\u001b[39m'\u001b[39m)\n",
      "File \u001b[0;32m/mnt/c/Users/linam/Desktop/PyRosetta/Pymol_InterfaceAnalyzerV3/Scripts/createfrontbackRing.py:32\u001b[0m, in \u001b[0;36mcreatefrontbackRing\u001b[0;34m(nSym, radius, rotation, namestring, cmd, saveflag)\u001b[0m\n\u001b[1;32m     29\u001b[0m \u001b[39melse\u001b[39;00m:\n\u001b[1;32m     30\u001b[0m     \u001b[39mraise\u001b[39;00m \u001b[39mNameError\u001b[39;00m(\u001b[39m'\u001b[39m\u001b[39mMonomer object does not exist in Pymol\u001b[39m\u001b[39m'\u001b[39m)\n\u001b[0;32m---> 32\u001b[0m cmd\u001b[39m.\u001b[39;49mdo(\u001b[39m'\u001b[39;49m\u001b[39mrotate x, 90, dummy, camera=0\u001b[39;49m\u001b[39m'\u001b[39;49m)\n\u001b[1;32m     33\u001b[0m cmd\u001b[39m.\u001b[39mdo(\u001b[39m'\u001b[39m\u001b[39mrotate x, \u001b[39m\u001b[39m%s\u001b[39;00m\u001b[39m, dummy, camera=0\u001b[39m\u001b[39m'\u001b[39m\u001b[39m%\u001b[39m rotation[\u001b[39m0\u001b[39m])\n\u001b[1;32m     34\u001b[0m cmd\u001b[39m.\u001b[39mdo(\u001b[39m'\u001b[39m\u001b[39mrotate y, \u001b[39m\u001b[39m%s\u001b[39;00m\u001b[39m, dummy, camera=0\u001b[39m\u001b[39m'\u001b[39m\u001b[39m%\u001b[39m rotation[\u001b[39m1\u001b[39m])\n",
      "File \u001b[0;32m~/miniconda3/envs/myenv/lib/python3.8/xmlrpc/client.py:1109\u001b[0m, in \u001b[0;36m_Method.__call__\u001b[0;34m(self, *args)\u001b[0m\n\u001b[1;32m   1108\u001b[0m \u001b[39mdef\u001b[39;00m \u001b[39m__call__\u001b[39m(\u001b[39mself\u001b[39m, \u001b[39m*\u001b[39margs):\n\u001b[0;32m-> 1109\u001b[0m     \u001b[39mreturn\u001b[39;00m \u001b[39mself\u001b[39;49m\u001b[39m.\u001b[39;49m__send(\u001b[39mself\u001b[39;49m\u001b[39m.\u001b[39;49m__name, args)\n",
      "File \u001b[0;32m~/miniconda3/envs/myenv/lib/python3.8/xmlrpc/client.py:1450\u001b[0m, in \u001b[0;36mServerProxy.__request\u001b[0;34m(self, methodname, params)\u001b[0m\n\u001b[1;32m   1444\u001b[0m \u001b[39mdef\u001b[39;00m \u001b[39m__request\u001b[39m(\u001b[39mself\u001b[39m, methodname, params):\n\u001b[1;32m   1445\u001b[0m     \u001b[39m# call a method on the remote server\u001b[39;00m\n\u001b[1;32m   1447\u001b[0m     request \u001b[39m=\u001b[39m dumps(params, methodname, encoding\u001b[39m=\u001b[39m\u001b[39mself\u001b[39m\u001b[39m.\u001b[39m__encoding,\n\u001b[1;32m   1448\u001b[0m                     allow_none\u001b[39m=\u001b[39m\u001b[39mself\u001b[39m\u001b[39m.\u001b[39m__allow_none)\u001b[39m.\u001b[39mencode(\u001b[39mself\u001b[39m\u001b[39m.\u001b[39m__encoding, \u001b[39m'\u001b[39m\u001b[39mxmlcharrefreplace\u001b[39m\u001b[39m'\u001b[39m)\n\u001b[0;32m-> 1450\u001b[0m     response \u001b[39m=\u001b[39m \u001b[39mself\u001b[39;49m\u001b[39m.\u001b[39;49m__transport\u001b[39m.\u001b[39;49mrequest(\n\u001b[1;32m   1451\u001b[0m         \u001b[39mself\u001b[39;49m\u001b[39m.\u001b[39;49m__host,\n\u001b[1;32m   1452\u001b[0m         \u001b[39mself\u001b[39;49m\u001b[39m.\u001b[39;49m__handler,\n\u001b[1;32m   1453\u001b[0m         request,\n\u001b[1;32m   1454\u001b[0m         verbose\u001b[39m=\u001b[39;49m\u001b[39mself\u001b[39;49m\u001b[39m.\u001b[39;49m__verbose\n\u001b[1;32m   1455\u001b[0m         )\n\u001b[1;32m   1457\u001b[0m     \u001b[39mif\u001b[39;00m \u001b[39mlen\u001b[39m(response) \u001b[39m==\u001b[39m \u001b[39m1\u001b[39m:\n\u001b[1;32m   1458\u001b[0m         response \u001b[39m=\u001b[39m response[\u001b[39m0\u001b[39m]\n",
      "File \u001b[0;32m~/miniconda3/envs/myenv/lib/python3.8/xmlrpc/client.py:1153\u001b[0m, in \u001b[0;36mTransport.request\u001b[0;34m(self, host, handler, request_body, verbose)\u001b[0m\n\u001b[1;32m   1151\u001b[0m \u001b[39mfor\u001b[39;00m i \u001b[39min\u001b[39;00m (\u001b[39m0\u001b[39m, \u001b[39m1\u001b[39m):\n\u001b[1;32m   1152\u001b[0m     \u001b[39mtry\u001b[39;00m:\n\u001b[0;32m-> 1153\u001b[0m         \u001b[39mreturn\u001b[39;00m \u001b[39mself\u001b[39;49m\u001b[39m.\u001b[39;49msingle_request(host, handler, request_body, verbose)\n\u001b[1;32m   1154\u001b[0m     \u001b[39mexcept\u001b[39;00m http\u001b[39m.\u001b[39mclient\u001b[39m.\u001b[39mRemoteDisconnected:\n\u001b[1;32m   1155\u001b[0m         \u001b[39mif\u001b[39;00m i:\n",
      "File \u001b[0;32m~/miniconda3/envs/myenv/lib/python3.8/xmlrpc/client.py:1166\u001b[0m, in \u001b[0;36mTransport.single_request\u001b[0;34m(self, host, handler, request_body, verbose)\u001b[0m\n\u001b[1;32m   1164\u001b[0m \u001b[39mtry\u001b[39;00m:\n\u001b[1;32m   1165\u001b[0m     http_conn \u001b[39m=\u001b[39m \u001b[39mself\u001b[39m\u001b[39m.\u001b[39msend_request(host, handler, request_body, verbose)\n\u001b[0;32m-> 1166\u001b[0m     resp \u001b[39m=\u001b[39m http_conn\u001b[39m.\u001b[39;49mgetresponse()\n\u001b[1;32m   1167\u001b[0m     \u001b[39mif\u001b[39;00m resp\u001b[39m.\u001b[39mstatus \u001b[39m==\u001b[39m \u001b[39m200\u001b[39m:\n\u001b[1;32m   1168\u001b[0m         \u001b[39mself\u001b[39m\u001b[39m.\u001b[39mverbose \u001b[39m=\u001b[39m verbose\n",
      "File \u001b[0;32m~/miniconda3/envs/myenv/lib/python3.8/http/client.py:1348\u001b[0m, in \u001b[0;36mHTTPConnection.getresponse\u001b[0;34m(self)\u001b[0m\n\u001b[1;32m   1346\u001b[0m \u001b[39mtry\u001b[39;00m:\n\u001b[1;32m   1347\u001b[0m     \u001b[39mtry\u001b[39;00m:\n\u001b[0;32m-> 1348\u001b[0m         response\u001b[39m.\u001b[39;49mbegin()\n\u001b[1;32m   1349\u001b[0m     \u001b[39mexcept\u001b[39;00m \u001b[39mConnectionError\u001b[39;00m:\n\u001b[1;32m   1350\u001b[0m         \u001b[39mself\u001b[39m\u001b[39m.\u001b[39mclose()\n",
      "File \u001b[0;32m~/miniconda3/envs/myenv/lib/python3.8/http/client.py:316\u001b[0m, in \u001b[0;36mHTTPResponse.begin\u001b[0;34m(self)\u001b[0m\n\u001b[1;32m    314\u001b[0m \u001b[39m# read until we get a non-100 response\u001b[39;00m\n\u001b[1;32m    315\u001b[0m \u001b[39mwhile\u001b[39;00m \u001b[39mTrue\u001b[39;00m:\n\u001b[0;32m--> 316\u001b[0m     version, status, reason \u001b[39m=\u001b[39m \u001b[39mself\u001b[39;49m\u001b[39m.\u001b[39;49m_read_status()\n\u001b[1;32m    317\u001b[0m     \u001b[39mif\u001b[39;00m status \u001b[39m!=\u001b[39m CONTINUE:\n\u001b[1;32m    318\u001b[0m         \u001b[39mbreak\u001b[39;00m\n",
      "File \u001b[0;32m~/miniconda3/envs/myenv/lib/python3.8/http/client.py:277\u001b[0m, in \u001b[0;36mHTTPResponse._read_status\u001b[0;34m(self)\u001b[0m\n\u001b[1;32m    276\u001b[0m \u001b[39mdef\u001b[39;00m \u001b[39m_read_status\u001b[39m(\u001b[39mself\u001b[39m):\n\u001b[0;32m--> 277\u001b[0m     line \u001b[39m=\u001b[39m \u001b[39mstr\u001b[39m(\u001b[39mself\u001b[39;49m\u001b[39m.\u001b[39;49mfp\u001b[39m.\u001b[39;49mreadline(_MAXLINE \u001b[39m+\u001b[39;49m \u001b[39m1\u001b[39;49m), \u001b[39m\"\u001b[39m\u001b[39miso-8859-1\u001b[39m\u001b[39m\"\u001b[39m)\n\u001b[1;32m    278\u001b[0m     \u001b[39mif\u001b[39;00m \u001b[39mlen\u001b[39m(line) \u001b[39m>\u001b[39m _MAXLINE:\n\u001b[1;32m    279\u001b[0m         \u001b[39mraise\u001b[39;00m LineTooLong(\u001b[39m\"\u001b[39m\u001b[39mstatus line\u001b[39m\u001b[39m\"\u001b[39m)\n",
      "File \u001b[0;32m~/miniconda3/envs/myenv/lib/python3.8/socket.py:669\u001b[0m, in \u001b[0;36mSocketIO.readinto\u001b[0;34m(self, b)\u001b[0m\n\u001b[1;32m    667\u001b[0m \u001b[39mwhile\u001b[39;00m \u001b[39mTrue\u001b[39;00m:\n\u001b[1;32m    668\u001b[0m     \u001b[39mtry\u001b[39;00m:\n\u001b[0;32m--> 669\u001b[0m         \u001b[39mreturn\u001b[39;00m \u001b[39mself\u001b[39;49m\u001b[39m.\u001b[39;49m_sock\u001b[39m.\u001b[39;49mrecv_into(b)\n\u001b[1;32m    670\u001b[0m     \u001b[39mexcept\u001b[39;00m timeout:\n\u001b[1;32m    671\u001b[0m         \u001b[39mself\u001b[39m\u001b[39m.\u001b[39m_timeout_occurred \u001b[39m=\u001b[39m \u001b[39mTrue\u001b[39;00m\n",
      "\u001b[0;31mKeyboardInterrupt\u001b[0m: "
     ]
    }
   ],
   "source": [
    "pdb_name='Inputs/A271.pdb'\n",
    "# nSym_range =[13, 16, 17, 19]\n",
    "# radius_range = [175, 185, 195, 205]\n",
    "xRot_range = [50, 130] # Rotation around x-axis\n",
    "yRor_range = [60, 130] # Rotation around y-axis\n",
    "zRot_range = [230, 290] # Rotation around z-axis\n",
    "nSym_range = [16]\n",
    "radius_range = [200.0]\n",
    "scan_results = []\n",
    "\n",
    "for x in range(xRot_range[0], xRot_range[1]+1, 5):\n",
    "    for y in range(yRor_range[0], yRor_range[1]+1, 5):\n",
    "        for z in range(zRot_range[0], zRot_range[1]+1, 5):\n",
    "            for nSym in nSym_range:\n",
    "                for radius in radius_range:\n",
    "                    result = scanRingInterface(pdb_name=pdb_name, nSym=nSym, radius=radius, rotation=[x, y, z], cmd=cmd)\n",
    "                    print(result)\n",
    "                    scan_results.append([pdb_name, nSym, radius, [x, y, z], result])\n",
    "\n",
    "scan_results_df = pd.DataFrame(scan_results, columns=['pdb_name', 'nSym', 'radius', 'rotation', 'Number of interface residues'])\n",
    "scan_results_df.to_csv('Outputs/scan_results.csv', index=False)"
   ]
  }
 ],
 "metadata": {
  "kernelspec": {
   "display_name": "myenv",
   "language": "python",
   "name": "python3"
  },
  "language_info": {
   "codemirror_mode": {
    "name": "ipython",
    "version": 3
   },
   "file_extension": ".py",
   "mimetype": "text/x-python",
   "name": "python",
   "nbconvert_exporter": "python",
   "pygments_lexer": "ipython3",
   "version": "3.8.15"
  },
  "orig_nbformat": 4,
  "vscode": {
   "interpreter": {
    "hash": "c82c997848f7cb597ad092a91f8cd3820e8cf96953e21ec25a317e98d816af5e"
   }
  }
 },
 "nbformat": 4,
 "nbformat_minor": 2
}
