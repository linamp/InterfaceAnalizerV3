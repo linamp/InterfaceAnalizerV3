{
 "cells": [
  {
   "attachments": {},
   "cell_type": "markdown",
   "metadata": {},
   "source": [
    "#### Initalizing servers"
   ]
  },
  {
   "cell_type": "code",
   "execution_count": 1,
   "metadata": {},
   "outputs": [],
   "source": [
    "import xmlrpc.client as xmlrpclib\n",
    "import matplotlib.pyplot as plt\n",
    "import numpy as np\n",
    "import pandas as pd\n",
    "from readers import *\n",
    "import os\n",
    "cmd = xmlrpclib.ServerProxy('http://localhost:9123')\n",
    "cmd.reinitialize()\n",
    "cmd.do('cd /mnt/c/Users/linam/Desktop/PyRosetta/Pymol_InterfaceAnalyzer')\n",
    "cmd.do('run Scripts/InterfaceResidues.py')"
   ]
  },
  {
   "cell_type": "code",
   "execution_count": 2,
   "metadata": {},
   "outputs": [],
   "source": [
    "pdb_name = 'Inputs/1a2k.ent.pdb'"
   ]
  },
  {
   "cell_type": "code",
   "execution_count": 4,
   "metadata": {},
   "outputs": [],
   "source": [
    "get_multimer(pdb_name, cmd)"
   ]
  },
  {
   "cell_type": "code",
   "execution_count": 8,
   "metadata": {},
   "outputs": [
    {
     "name": "stdout",
     "output_type": "stream",
     "text": [
      "--- ERROR generating interface file for chain A and B\n",
      "--- SUCCESS in second attempt for chain A and B\n",
      "--- SUCCESS reading PDB interf file of chains A and B\n"
     ]
    },
    {
     "name": "stderr",
     "output_type": "stream",
     "text": [
      "/home/linamp/miniconda3/envs/myenv/lib/python3.8/site-packages/Bio/PDB/PDBParser.py:395: PDBConstructionWarning: Ignoring unrecognized record 'END' at line 504\n",
      "  warnings.warn(\n"
     ]
    },
    {
     "data": {
      "text/html": [
       "<div>\n",
       "<style scoped>\n",
       "    .dataframe tbody tr th:only-of-type {\n",
       "        vertical-align: middle;\n",
       "    }\n",
       "\n",
       "    .dataframe tbody tr th {\n",
       "        vertical-align: top;\n",
       "    }\n",
       "\n",
       "    .dataframe thead th {\n",
       "        text-align: right;\n",
       "    }\n",
       "</style>\n",
       "<table border=\"1\" class=\"dataframe\">\n",
       "  <thead>\n",
       "    <tr style=\"text-align: right;\">\n",
       "      <th></th>\n",
       "      <th>Distance</th>\n",
       "      <th>Residue1</th>\n",
       "      <th>AA1</th>\n",
       "      <th>SS1</th>\n",
       "      <th>Residue2</th>\n",
       "      <th>AA2</th>\n",
       "      <th>SS2</th>\n",
       "      <th>PDB</th>\n",
       "    </tr>\n",
       "  </thead>\n",
       "  <tbody>\n",
       "    <tr>\n",
       "      <th>0</th>\n",
       "      <td>7.790</td>\n",
       "      <td>36 A</td>\n",
       "      <td>A</td>\n",
       "      <td>E</td>\n",
       "      <td>77 B</td>\n",
       "      <td>P</td>\n",
       "      <td>T</td>\n",
       "      <td>1a2k</td>\n",
       "    </tr>\n",
       "    <tr>\n",
       "      <th>1</th>\n",
       "      <td>7.537</td>\n",
       "      <td>38 A</td>\n",
       "      <td>C</td>\n",
       "      <td>E</td>\n",
       "      <td>74 B</td>\n",
       "      <td>Q</td>\n",
       "      <td>E</td>\n",
       "      <td>1a2k</td>\n",
       "    </tr>\n",
       "    <tr>\n",
       "      <th>2</th>\n",
       "      <td>7.335</td>\n",
       "      <td>40 A</td>\n",
       "      <td>T</td>\n",
       "      <td>E</td>\n",
       "      <td>72 B</td>\n",
       "      <td>D</td>\n",
       "      <td>E</td>\n",
       "      <td>1a2k</td>\n",
       "    </tr>\n",
       "    <tr>\n",
       "      <th>3</th>\n",
       "      <td>5.805</td>\n",
       "      <td>69 A</td>\n",
       "      <td>T</td>\n",
       "      <td>E</td>\n",
       "      <td>124 B</td>\n",
       "      <td>H</td>\n",
       "      <td>-</td>\n",
       "      <td>1a2k</td>\n",
       "    </tr>\n",
       "    <tr>\n",
       "      <th>4</th>\n",
       "      <td>7.081</td>\n",
       "      <td>72 A</td>\n",
       "      <td>D</td>\n",
       "      <td>E</td>\n",
       "      <td>40 B</td>\n",
       "      <td>T</td>\n",
       "      <td>E</td>\n",
       "      <td>1a2k</td>\n",
       "    </tr>\n",
       "  </tbody>\n",
       "</table>\n",
       "</div>"
      ],
      "text/plain": [
       "   Distance Residue1 AA1 SS1 Residue2 AA2 SS2   PDB\n",
       "0     7.790    36 A    A   E    77 B    P   T  1a2k\n",
       "1     7.537    38 A    C   E    74 B    Q   E  1a2k\n",
       "2     7.335    40 A    T   E    72 B    D   E  1a2k\n",
       "3     5.805    69 A    T   E   124 B    H   -  1a2k\n",
       "4     7.081    72 A    D   E    40 B    T   E  1a2k"
      ]
     },
     "execution_count": 8,
     "metadata": {},
     "output_type": "execute_result"
    }
   ],
   "source": [
    "pdb_name = 'Inputs/1a2k.ent.pdb'\n",
    "# results = get_interface_distances(pdb_name, cmd)\n",
    "ch1 = 'A'\n",
    "ch2 = 'B'\n",
    "results = ChainInterfaceDistances(pdb_name, ch1, ch2, cmd, cutoff=8)\n",
    "cmd.do('util.cbc')\n",
    "# Convert results to a dataframe\n",
    "results_df = pd.DataFrame(results, columns=['Distance', 'Residue1', 'AA1', 'SS1', 'Residue2', 'AA2', 'SS2', 'PDB'])\n",
    "# Convert all entries in AA1, SS1, AA2 and SS2 into upper case\n",
    "results_df['AA1'] = results_df['AA1'].str.upper()\n",
    "results_df['SS1'] = results_df['SS1'].str.upper()\n",
    "results_df['AA2'] = results_df['AA2'].str.upper()\n",
    "results_df['SS2'] = results_df['SS2'].str.upper()\n",
    "results_df['PDB'] = results_df['PDB'].str[7:-8]\n",
    "results_df.head()"
   ]
  },
  {
   "cell_type": "code",
   "execution_count": 11,
   "metadata": {},
   "outputs": [
    {
     "name": "stdout",
     "output_type": "stream",
     "text": [
      "The number of residues in the interface is: \n",
      " Chain A: 23 \n",
      " Chain B: 21 \n",
      " Total: 44\n"
     ]
    }
   ],
   "source": [
    "pdb_name = 'Inputs/1a2k.ent.pdb'\n",
    "get_multimer(pdb_name, cmd, reinit=False)\n",
    "\n",
    "ch1_interface = results_df.Residue1.unique()\n",
    "ch2_interface = results_df.Residue2.unique()\n",
    "\n",
    "print('The number of residues in the interface is: \\n Chain {}: {} \\n Chain {}: {} \\n Total: {}'.format(ch1, len(ch1_interface), ch2, len(ch2_interface), len(ch1_interface)+len(ch2_interface)))\n",
    "\n",
    "residue_list = []\n",
    "for res in ch1_interface:\n",
    "    residue_list.append(res[0:-3])\n",
    "colorResidueList(ch1, residue_list, cmd)\n",
    "\n",
    "residue_list = []\n",
    "for res in ch2_interface:\n",
    "    residue_list.append(res[0:-3])\n",
    "colorResidueList(ch2, residue_list, cmd)"
   ]
  }
 ],
 "metadata": {
  "kernelspec": {
   "display_name": "myenv",
   "language": "python",
   "name": "python3"
  },
  "language_info": {
   "codemirror_mode": {
    "name": "ipython",
    "version": 3
   },
   "file_extension": ".py",
   "mimetype": "text/x-python",
   "name": "python",
   "nbconvert_exporter": "python",
   "pygments_lexer": "ipython3",
   "version": "3.8.15"
  },
  "orig_nbformat": 4,
  "vscode": {
   "interpreter": {
    "hash": "c82c997848f7cb597ad092a91f8cd3820e8cf96953e21ec25a317e98d816af5e"
   }
  }
 },
 "nbformat": 4,
 "nbformat_minor": 2
}
